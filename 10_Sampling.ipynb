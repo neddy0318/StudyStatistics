{
 "cells": [
  {
   "cell_type": "markdown",
   "metadata": {},
   "source": [
    "# 표본추출 Sampling\n",
    "\n",
    "## 1. 개요\n",
    "\n",
    "## 2. 표본추출 설계\n",
    "1)개요 및 고려사항\n",
    "- 표본추출: 전체(모집단)에서 일부(표본)를 선택하는 과정을 의미합니다.\n",
    "- 표본의 대표성: 표본은 모집단의 특성을 잘 대표할 수 있어야 합니다.\n",
    "- 일반화: 표본을 통해 연구 조사된 결과는 모집단 전체로 일반화할 수 있어야 합니다.\n",
    "- 표본의 적절성: 시간과 비용을 절감하면서도 결과의 정확성을 확보해야 합니다.\n",
    "    \n",
    "2)진행 순서\n",
    "- (1)모집단 확정: 연구의 시간, 범위, 내용 등을 고려하여 모집단을 정의합니다.\n",
    "- (2)표집틀/표본프레임 결정: 표본을 추출할 수 있는 프레임을 설정합니다.\n",
    "- (3)표본추출방법: 표본을 추출할 방법을 결정합니다.\n",
    "- (4)표본의 수 결정\n",
    "    - 모집단의 성격: 모집단 규모, 이질성 여부를 고려합니다.\n",
    "    - 연구의 목적과 방법: 분석할 변수의 수, 신뢰도, 허용오차 크기를 고려합니다.\n",
    "    - 시간과 비용: 연구의 시간과 비용 제약을 고려합니다.\n",
    "\n",
    "3)표집틀 평가 요소\n",
    "- 포괄성: 표집틀은 모든 구성요소를 포함해야 합니다.\n",
    "- 추출확률: 연구결과를 모집단에 일반화하기 위해서는 모든 구성요소들이 표집틀에 기재될 확률이 동일해야 합니다.\n",
    "- 효율성: 사용하기 편리해야합니다.\n",
    "\n",
    "4)표집오차의 특성\n",
    "- 표집오차: 통계량들이 모수 주위에 분산되어 있는 정도\n",
    "- 표집(표본추출) 과정에서 발생합니다.\n",
    "- 표본의 분산이 작을수록 표집오차는 작아집니다.\n",
    "- 표본의 크기가 클수록 표집오차는 작아집니다.\n",
    "- 집단의 동질성이 높을수록 표집오차는 감소합니다.\n",
    "- 표본 크기가 같다면 '집락표집>단순무작위표집>층화표집' 순으로 효율적입니다.\n",
    "\n",
    "## 2. 확률표본추출\n",
    "\n",
    "#### 1) 단순무작위표본추출 (Simple Random Sampling; SRS)\n",
    "- 모집단의 모든 구성요소가 동일한 확률로 표본으로 선택되는 방법입니다. 표본이 모집단의 모든 요소를 동등하게 대표할 수 있도록 보장합니다.\n",
    "- **특징**: \n",
    "  - 표본 추출 과정에서 모든 구성요소가 동등한 기회를 가지므로 편향이 적습니다.\n",
    "  - 컴퓨터를 이용한 난수 생성기를 통해 쉽게 구현할 수 있습니다.\n",
    "- **장점**:\n",
    "  - 구현이 간단하고 이해하기 쉽습니다.\n",
    "  - 모든 구성요소가 동등한 선택 기회를 가집니다.\n",
    "- **단점**:\n",
    "  - 모집단의 크기가 클 경우, 전체를 목록화하기 어렵고 비효율적일 수 있습니다.\n",
    "  - 특정 하위 집단이 충분히 대표되지 않을 수 있습니다.\n",
    "\n",
    "#### 2) 체계적/계통적 표본추출 (Systematic Sampling)\n",
    "- 모집단의 구성요소를 순서대로 나열한 후, 일정한 간격으로 표본을 선택하는 방법입니다. 예를 들어, 매 10번째 항목을 선택하는 방식입니다.\n",
    "- **특징**:\n",
    "  - 단순 무작위 표본추출보다 구현이 쉬울 수 있습니다.\n",
    "  - 모집단이 주기적 패턴을 가지는 경우, 편향이 발생할 수 있습니다.\n",
    "- **장점**:\n",
    "  - 표본 추출이 간단하고 시간과 비용이 적게 듭니다.\n",
    "  - 무작위 추출보다 계획적인 접근이 가능합니다.\n",
    "- **단점**:\n",
    "  - 모집단에 주기성이 있는 경우, 특정 패턴이 반복되어 편향이 발생할 수 있습니다.\n",
    "  - 모든 항목을 리스트화해야 하는 번거로움이 있습니다.\n",
    "\n",
    "#### 3) 층화 표본추출 (Stratified Sampling)\n",
    "- 모집단을 동질적인 하위 집단(층)으로 나눈 후, 각 층에서 표본을 추출하는 방법입니다. 각 층이 모집단의 중요한 특성을 반영하도록 합니다.\n",
    "- **특징**:\n",
    "  - 각 층에서 표본을 추출하므로 모집단의 다양한 특성을 반영할 수 있습니다.\n",
    "  - 각 층의 크기에 비례하여 표본을 추출하거나, 동일한 수의 표본을 추출할 수 있습니다.\n",
    "- **장점**:\n",
    "  - 모집단의 특성을 보다 정확하게 반영할 수 있습니다.\n",
    "  - 표본의 정확성이 높아지며, 분석 결과의 신뢰도가 증가합니다.\n",
    "- **단점**:\n",
    "  - 층을 설정하는 과정이 복잡할 수 있으며, 층화 기준을 잘못 설정할 경우 결과가 왜곡될 수 있습니다.\n",
    "  - 각 층에서 표본을 추출하는데 더 많은 시간과 자원이 소요될 수 있습니다.\n",
    "\n",
    "#### 4) 집락/군집 표본추출 (Cluster Sampling)\n",
    "- 모집단을 여러 집락(군집)으로 나눈 후, 일부 집락을 무작위로 선택하고, 선택된 집락 내의 모든 구성요소를 표본으로 사용하는 방법입니다.\n",
    "- **특징**:\n",
    "  - 비용과 시간을 절감할 수 있습니다.\n",
    "  - 집락 내의 구성요소가 유사할 경우, 표본이 모집단을 잘 대표하지 못할 수 있습니다.\n",
    "- **장점**:\n",
    "  - 큰 모집단을 다루는 데 효과적이며, 시간과 비용을 절감할 수 있습니다.\n",
    "  - 표본 추출이 비교적 간단하고 실용적입니다.\n",
    "- **단점**:\n",
    "  - 선택된 집락이 모집단을 대표하지 않을 수 있습니다.\n",
    "  - 집락 내의 동질성이 높을 경우 표본의 다양성이 줄어들 수 있습니다.\n",
    "\n",
    "\n",
    "## 3. 비확률표본추출\n",
    "\n",
    "#### 1) 임의/편의 표본추출 (Convenience/Accidental Sampling)\n",
    "- 쉽게 접근할 수 있는 표본을 선택하는 방법입니다. 예를 들어, 길거리에서 만난 사람들로 표본을 구성하는 경우입니다.\n",
    "- **특징**:\n",
    "  - 구현이 쉽고 빠르지만, 표본이 모집단을 잘 대표하지 않을 수 있습니다.\n",
    "  - 편향이 발생할 수 있습니다.\n",
    "- **장점**:\n",
    "  - 표본 추출이 매우 쉽고 비용이 적게 듭니다.\n",
    "  - 연구를 신속하게 진행할 수 있습니다.\n",
    "- **단점**:\n",
    "  - 표본이 모집단을 제대로 대표하지 않을 수 있습니다.\n",
    "  - 결과에 편향이 생길 가능성이 높습니다.\n",
    "\n",
    "#### 2) 유의/판단/목적 표본추출 (Judgement/Purposive Sampling)\n",
    "- 연구자의 판단에 따라 표본을 선택하는 방법입니다. 특정 특성을 가진 사람들을 선택하는 경우입니다.\n",
    "- **특징**:\n",
    "  - 특정 그룹이나 특성에 대한 연구에 유용합니다.\n",
    "  - 표본이 모집단을 잘 대표하지 않을 수 있으며, 연구자의 주관이 개입될 수 있습니다.\n",
    "- **장점**:\n",
    "  - 특정 목적에 맞는 표본을 쉽게 선택할 수 있습니다.\n",
    "  - 특수한 집단에 대한 연구에 유용합니다.\n",
    "- **단점**:\n",
    "  - 연구자의 주관이 개입되어 편향이 발생할 수 있습니다.\n",
    "  - 표본이 모집단을 정확하게 대표하지 않을 수 있습니다.\n",
    "\n",
    "#### 3) 할당/쿼터 표본추출 (Quota Sampling)\n",
    "- 모집단을 여러 하위 집단으로 나눈 후, 각 집단에서 일정한 수의 표본을 추출하는 방법입니다. 예를 들어, 성별이나 연령대에 따라 일정 비율로 표본을 추출합니다.\n",
    "- **특징**:\n",
    "  - 모집단의 특정 특성을 반영할 수 있습니다.\n",
    "  - 선택된 표본이 모집단을 완전히 대표하지 않을 수 있습니다.\n",
    "- **장점**:\n",
    "  - 모집단의 중요한 특성을 반영할 수 있습니다.\n",
    "  - 표본 추출 과정이 비교적 간단합니다.\n",
    "- **단점**:\n",
    "  - 모집단의 다양한 특성을 모두 반영하지 못할 수 있습니다.\n",
    "  - 표본이 모집단을 정확하게 대표하지 않을 수 있습니다.\n",
    "\n",
    "#### 4) 눈덩이 표본추출 (Snowball Sampling)\n",
    "- **설명**: 초기 표본이 다른 표본을 소개받는 방식으로 표본을 확장하는 방법입니다. 주로 특정 집단이나 네트워크에서 사용됩니다.\n",
    "- **특징**:\n",
    "  - 모집단의 네트워크를 탐색할 때 유용합니다.\n",
    "  - 표본이 편향될 수 있으며, 네트워크 외부의 집단을 대표하지 않을 수 있습니다.\n",
    "- **장점**:\n",
    "  - 특수한 집단이나 네트워크를 연구할 때 효과적입니다.\n",
    "  - 접근하기 어려운 집단에 대한 정보 수집이 가능합니다.\n",
    "- **단점**:\n",
    "  - 표본이 네트워크 내에만 국한될 수 있으며, 모집단 전체를 대표하지 않을 수 있습니다.\n",
    "  - 표본의 편향이 클 수 있습니다.\n",
    "\n",
    "## 참고자료\n",
    "\n",
    "https://mj-lahong.tistory.com/151\n",
    "\n",
    "\n",
    "## 파이썬 코드 \n",
    "Chat-GPT 활용"
   ]
  },
  {
   "cell_type": "code",
   "execution_count": 1,
   "metadata": {},
   "outputs": [
    {
     "name": "stdout",
     "output_type": "stream",
     "text": [
      "     A         B\n",
      "80  81 -0.340824\n",
      "84  85  1.508348\n",
      "33  34 -0.084626\n",
      "81  82 -0.136399\n",
      "93  94 -0.529253\n",
      "17  18  0.844823\n",
      "36  37 -0.384835\n",
      "82  83  1.709369\n",
      "69  70 -2.784404\n",
      "65  66  0.203816\n"
     ]
    }
   ],
   "source": [
    "import numpy as np\n",
    "import pandas as pd\n",
    "\n",
    "# 데이터프레임 생성 (예시)\n",
    "data = pd.DataFrame({'A': np.arange(1, 101), 'B': np.random.randn(100)})\n",
    "\n",
    "# 단순무작위표본추출\n",
    "sample_size = 10\n",
    "sample = data.sample(n=sample_size, random_state=1)\n",
    "print(sample)"
   ]
  },
  {
   "cell_type": "code",
   "execution_count": 2,
   "metadata": {},
   "outputs": [
    {
     "name": "stdout",
     "output_type": "stream",
     "text": [
      "     A         B\n",
      "0    1  0.170387\n",
      "10  11 -1.220008\n",
      "20  21  1.250101\n",
      "30  31  0.697941\n",
      "40  41  0.826164\n",
      "50  51 -0.065029\n",
      "60  61 -0.690395\n",
      "70  71 -0.069931\n",
      "80  81  1.685256\n",
      "90  91 -0.062793\n"
     ]
    }
   ],
   "source": [
    "# 데이터프레임 생성 (예시)\n",
    "data = pd.DataFrame({'A': np.arange(1, 101), 'B': np.random.randn(100)})\n",
    "\n",
    "# 체계적 표본추출\n",
    "interval = 10  # 추출 간격\n",
    "indices = np.arange(0, len(data), interval)\n",
    "systematic_sample = data.iloc[indices]\n",
    "print(systematic_sample)"
   ]
  },
  {
   "cell_type": "code",
   "execution_count": 4,
   "metadata": {},
   "outputs": [
    {
     "name": "stdout",
     "output_type": "stream",
     "text": [
      "     A  B\n",
      "85  86  X\n",
      "11  12  Y\n",
      "31  32  X\n",
      "4    5  Y\n",
      "51  52  Y\n",
      "22  23  X\n",
      "9   10  Y\n",
      "84  85  Y\n",
      "21  22  X\n",
      "73  74  Y\n"
     ]
    }
   ],
   "source": [
    "from sklearn.model_selection import StratifiedShuffleSplit\n",
    "# 데이터프레임 생성 (예시)\n",
    "data = pd.DataFrame({'A': np.arange(1, 101), 'B': np.random.choice(['X', 'Y'], 100)})\n",
    "stratify_col = 'B'  # 층화할 열\n",
    "\n",
    "# 층화 표본추출\n",
    "split = StratifiedShuffleSplit(n_splits=1, test_size=0.1, random_state=1)\n",
    "for train_index, test_index in split.split(data, data[stratify_col]):\n",
    "    stratified_sample = data.iloc[test_index]\n",
    "\n",
    "print(stratified_sample)"
   ]
  },
  {
   "cell_type": "code",
   "execution_count": 5,
   "metadata": {},
   "outputs": [
    {
     "name": "stdout",
     "output_type": "stream",
     "text": [
      "       A       B\n",
      "0      1  Group2\n",
      "1      2  Group2\n",
      "2      3  Group2\n",
      "3      4  Group2\n",
      "4      5  Group2\n",
      "..   ...     ...\n",
      "291  292  Group2\n",
      "292  293  Group1\n",
      "294  295  Group2\n",
      "296  297  Group2\n",
      "299  300  Group1\n",
      "\n",
      "[213 rows x 2 columns]\n"
     ]
    }
   ],
   "source": [
    "# 데이터프레임 생성 (예시)\n",
    "data = pd.DataFrame({'A': np.arange(1, 301), 'B': np.random.choice(['Group1', 'Group2', 'Group3'], 300)})\n",
    "\n",
    "# 집락 추출\n",
    "clusters = data['B'].unique()\n",
    "selected_clusters = np.random.choice(clusters, size=2, replace=False)  # 무작위로 2개의 집락 선택\n",
    "cluster_sample = data[data['B'].isin(selected_clusters)]\n",
    "\n",
    "print(cluster_sample)"
   ]
  },
  {
   "cell_type": "code",
   "execution_count": 6,
   "metadata": {},
   "outputs": [
    {
     "name": "stdout",
     "output_type": "stream",
     "text": [
      "    A         B\n",
      "0   1  1.532291\n",
      "1   2 -1.714163\n",
      "2   3  0.359020\n",
      "3   4 -0.837357\n",
      "4   5 -0.587735\n",
      "5   6 -0.487963\n",
      "6   7  1.581447\n",
      "7   8  1.154697\n",
      "8   9 -0.118142\n",
      "9  10 -0.628399\n"
     ]
    }
   ],
   "source": [
    "# 데이터프레임 생성 (예시)\n",
    "data = pd.DataFrame({'A': np.arange(1, 101), 'B': np.random.randn(100)})\n",
    "\n",
    "# 편의 표본추출 (앞부분의 10개 데이터 선택)\n",
    "convenience_sample = data.head(10)\n",
    "print(convenience_sample)"
   ]
  },
  {
   "cell_type": "code",
   "execution_count": 7,
   "metadata": {},
   "outputs": [
    {
     "name": "stdout",
     "output_type": "stream",
     "text": [
      "      A         B\n",
      "90   91 -1.898055\n",
      "91   92 -0.500071\n",
      "92   93  0.992426\n",
      "93   94  0.608341\n",
      "94   95 -0.206429\n",
      "95   96 -0.329182\n",
      "96   97 -0.657420\n",
      "97   98  1.067821\n",
      "98   99  1.622055\n",
      "99  100  0.194153\n"
     ]
    }
   ],
   "source": [
    "# 데이터프레임 생성 (예시)\n",
    "data = pd.DataFrame({'A': np.arange(1, 101), 'B': np.random.randn(100)})\n",
    "\n",
    "# 유의 표본추출 (특정 조건에 맞는 데이터 선택)\n",
    "judgement_sample = data[data['A'] > 90]\n",
    "print(judgement_sample)"
   ]
  },
  {
   "cell_type": "code",
   "execution_count": 8,
   "metadata": {},
   "outputs": [
    {
     "name": "stdout",
     "output_type": "stream",
     "text": [
      "     A       B\n",
      "6    7  Group1\n",
      "13  14  Group1\n",
      "15  16  Group1\n",
      "25  26  Group1\n",
      "26  27  Group1\n",
      "31  32  Group1\n",
      "39  40  Group1\n",
      "41  42  Group1\n",
      "42  43  Group1\n",
      "43  44  Group1\n",
      "3    4  Group2\n",
      "5    6  Group2\n",
      "7    8  Group2\n",
      "8    9  Group2\n",
      "9   10  Group2\n",
      "16  17  Group2\n",
      "18  19  Group2\n",
      "19  20  Group2\n",
      "21  22  Group2\n",
      "23  24  Group2\n"
     ]
    }
   ],
   "source": [
    "# 데이터프레임 생성 (예시)\n",
    "data = pd.DataFrame({'A': np.arange(1, 101), 'B': np.random.choice(['Group1', 'Group2', 'Group3'], 100)})\n",
    "\n",
    "# 쿼터 표본추출\n",
    "group1_sample = data[data['B'] == 'Group1'].head(10)\n",
    "group2_sample = data[data['B'] == 'Group2'].head(10)\n",
    "quota_sample = pd.concat([group1_sample, group2_sample])\n",
    "print(quota_sample)"
   ]
  },
  {
   "cell_type": "code",
   "execution_count": 9,
   "metadata": {},
   "outputs": [
    {
     "name": "stdout",
     "output_type": "stream",
     "text": [
      "     A       B\n",
      "2    3  Group1\n",
      "3    4  Group1\n",
      "4    5  Group1\n",
      "5    6  Group2\n",
      "6    7  Group2\n",
      "7    8  Group2\n",
      "8    9  Group2\n",
      "9   10  Group2\n",
      "10  11  Group3\n",
      "11  12  Group3\n"
     ]
    }
   ],
   "source": [
    "# 예시 데이터프레임 생성\n",
    "data = pd.DataFrame({'A': range(1, 21), 'B': ['Group1']*5 + ['Group2']*5 + ['Group3']*10})\n",
    "\n",
    "# 눈덩이 표본추출 (시작점 설정)\n",
    "snowball_sample = []\n",
    "current_sample = [1]  # 초기 표본\n",
    "\n",
    "while len(snowball_sample) < 10:\n",
    "    new_samples = [current_sample[-1] + 1]  # 추가 표본을 설정 (간단한 예시)\n",
    "    snowball_sample.extend(new_samples)\n",
    "    current_sample.extend(new_samples)\n",
    "    if len(snowball_sample) >= 10:\n",
    "        break\n",
    "\n",
    "snowball_sample_df = data.loc[snowball_sample]\n",
    "print(snowball_sample_df)"
   ]
  }
 ],
 "metadata": {
  "kernelspec": {
   "display_name": "Python 3",
   "language": "python",
   "name": "python3"
  },
  "language_info": {
   "codemirror_mode": {
    "name": "ipython",
    "version": 3
   },
   "file_extension": ".py",
   "mimetype": "text/x-python",
   "name": "python",
   "nbconvert_exporter": "python",
   "pygments_lexer": "ipython3",
   "version": "3.11.9"
  }
 },
 "nbformat": 4,
 "nbformat_minor": 2
}
