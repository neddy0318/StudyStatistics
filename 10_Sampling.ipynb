{
 "cells": [
  {
   "cell_type": "markdown",
   "metadata": {},
   "source": [
    "# 표본추출 Sampling\n",
    "\n",
    "## 1. 개요\n",
    "\n",
    "## 2. 확률표본추출\n",
    "\n",
    "#### 1)단순무작위표본추출 Simple Random Sampling; SRS\n",
    "\n",
    "#### 2)체계적/계통적 표본추출 Systematic Sampling\n",
    "\n",
    "#### 3)층화 표본추출 Stratified Sampling\n",
    "\n",
    "#### 4)집락/군집 표본추출 Cluster Sampling\n",
    "\n",
    "\n",
    "## 3. 비확률표본추출\n",
    "\n",
    "#### 1)임의/편의 표본추출 Convenience/Accidental Sampling\n",
    "\n",
    "#### 2)유의/판단/목적 표본추출 Judgement/Purposive Sampling\n",
    "\n",
    "#### 3)할당/쿼터 표본추출 Quota Sampling\n",
    "\n",
    "#### 4)눈덩이 표본추출 Snowball Sampling\n",
    "\n",
    "\n",
    "## 참고자료\n",
    "\n",
    "https://mj-lahong.tistory.com/151"
   ]
  }
 ],
 "metadata": {
  "language_info": {
   "name": "python"
  }
 },
 "nbformat": 4,
 "nbformat_minor": 2
}
