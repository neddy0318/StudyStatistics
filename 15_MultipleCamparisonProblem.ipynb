{
 "cells": [
  {
   "cell_type": "markdown",
   "metadata": {},
   "source": [
    "# 다중비교 문제 Multiple Comparison Problem\n",
    "\n",
    "## 1. 개요\n",
    "\n",
    "#### 1) 다중비교 문제의 배경\n",
    "다중비교 문제는 여러 가설을 동시에 검정할 때 발생하는 문제로, 각 가설에 대해 개별적으로 설정된 유의수준이 전체 검정에서의 유의수준을 증가시켜 잘못된 결론을 내릴 가능성을 높입니다. 이로 인해, 다수의 가설을 동시에 검정할 때는 오류 제어 방법이 필요합니다.\n",
    "\n",
    "## 2. 원인\n",
    "\n",
    "#### 1) FWER Family-wise Error Rate; 실험별 오류율\n",
    "FWER은 모든 가설 검정에서 하나 이상의 제1종 오류 거짓 양성를 범할 확률을 나타냅니다. 즉, 실험에서 잘못된 결론을 내릴 확률이 증가하는 것을 의미합니다.\n",
    "\n",
    "- CWER Testwise Error Rate = Comparison Wise Error Rate; 비교별 오류율: 개별 가설에 대해 설정된 오류율로, 일반적으로 α 예: 0.05로 설정됩니다.\n",
    "- FWER: 다중 비교에서 FWER은 다음과 같이 계산됩니다:\n",
    "\n",
    "$$\n",
    "\\text{FWER} = 1 - (1 - \\alpha)^m\n",
    "$$\n",
    "\n",
    "여기서 α는 개별 가설의 유의수준, m은 검정의 수입니다.\n",
    "\n",
    "#### 2) FDR False Discovery Rate; 거짓 발견률\n",
    "- FDR은 다중 가설 검정에서 기각된 가설들 중 잘못된 기각, 즉 거짓 양성의 비율을 나타냅니다. 제1종 오류는 기각된 귀무가설이 실제로는 참인 경우 발생합니다. 다중 비교를 수행할 때 여러 가설 중 하나라도 잘못 기각될 확률이 높아지므로, FDR을 제어하여 거짓 발견의 비율을 줄이는 것이 중요합니다.\n",
    "- FDR은 이러한 거짓 양성의 비율을 관리함으로써, 검정에서 발견된 유의미한 결과의 신뢰성을 높일 수 있습니다. 특히 유전체학, 생물정보학, 대규모 데이터 분석 등에서는 수천 개의 가설을 동시에 검정하므로, FDR을 통제하는 것이 필요합니다.\n",
    "\n",
    "## 3. 보정방법\n",
    "\n",
    "#### 1) FWER 보정\n",
    "\n",
    "**(1)Bonferroni 보정**\n",
    "- Bonferroni 보정은 가장 기본적이면서도 직관적인 방법으로, 다중 비교 문제를 해결하기 위해 각 가설 검정의 유의수준을 전체 검정의 수로 나눕니다. 각 가설 검정의 조정된 유의수준은 다음과 같이 계산됩니다:\n",
    "\n",
    "$$\n",
    "\\alpha' = \\frac{\\alpha}{m}\n",
    "$$\n",
    "\n",
    "여기서:\n",
    "  - α'는 조정된 유의수준\n",
    "  - α는 전체 유의수준\n",
    "  - m은 검정의 수\n",
    "\n",
    "예를 들어, 20개의 가설을 검정할 때 전체 유의수준이 0.05라면, 각 가설 검정의 유의수준은 0.0025가 됩니다. Bonferroni 보정은 매우 보수적이어서 실제로 유의미한 결과를 발견할 가능성이 낮아질 수 있습니다.\n",
    "\n",
    "**(2)Holm's Step-Down 보정**\n",
    "- Holm's Step-Down 보정은 p값을 오름차순으로 정렬한 후, 각 p값에 대해 다른 유의수준을 적용합니다. 유의수준은 점진적으로 증가하며, 다음과 같은 방식으로 p값을 비교합니다:\n",
    "\n",
    "$$\n",
    "p_{(i)} \\leq \\frac{\\alpha}{m - i + 1}\n",
    "$$\n",
    "\n",
    "여기서:\n",
    "  - p_{(i)}는 정렬된 i번째 p값\n",
    "  - m은 전체 검정의 수\n",
    "  - i는 p값의 순위\n",
    "\n",
    "이 방법은 Bonferroni 보정보다 덜 보수적이며, 더 많은 유의미한 결과를 발견할 수 있습니다. Step-Down이라는 명칭은 p값이 작은 검정부터 차례로 비교하기 때문에 붙여졌습니다.\n",
    "\n",
    "**(3)Tukey's 검정과 Scheffe's 검정**\n",
    "- Tukey's 검정과 Scheffe's 검정은 ANOVA 이후 다중 비교 문제를 해결하기 위해 고안된 방법입니다. 이들은 다중 비교의 종류와 목적에 따라 사용됩니다.\n",
    "  - **Tukey's HSD 검정**은 모든 쌍 간 평균 차이를 비교합니다. 이는 모든 가능한 쌍을 비교하므로, 특히 그룹 간의 크기가 동일할 때 유용합니다.\n",
    "  - **Scheffe's 검정**은 모든 가능한 선형 조합을 고려하여 그룹 간 평균 차이를 평가합니다. 그룹 크기가 서로 다르거나 복잡한 조합을 고려할 때 유용합니다.\n",
    "\n",
    "Bonferroni와 Holm 보정은 개별 가설 간의 독립성을 가정하지만, Tukey와 Scheffe 검정은 가설 간의 연관성을 고려할 수 있습니다. 이로 인해 더 유연한 검정을 수행할 수 있습니다.\n",
    "\n",
    "#### 2)FDR 보정\n",
    "\n",
    "**Benjamini-Hochberg 절차**\n",
    "- Benjamini-Hochberg 절차는 FDR을 조정하는 널리 사용되는 방법입니다. 이 방법은 다음과 같은 절차로 FDR을 제어합니다:\n",
    "  1. 각 가설의 p값을 오름차순으로 정렬합니다.\n",
    "  2. 유의수준 α와 전체 검정의 수 m을 고려하여, 각 p값을 차례로 비교합니다.\n",
    "  3. p값이 i 나누기 m 곱하기 α보다 작을 때까지, i번째 가설을 기각합니다.\n",
    "\n",
    "$$\n",
    "p_{(i)} \\leq \\frac{i}{m} \\times \\alpha\n",
    "$$\n",
    "\n",
    "여기서:\n",
    "  - p_i는 정렬된 i번째 p값\n",
    "  - m은 전체 검정의 수\n",
    "  - α는 전체 유의수준\n",
    "\n",
    "Benjamini-Hochberg 절차는 FDR을 제어하면서도 많은 유의미한 결과를 탐지할 수 있습니다. 이 방법은 다중 검정에서 거짓 발견의 비율을 낮추면서 검정력을 유지할 수 있어, 특히 대규모 데이터 분석에서 유용합니다.\n",
    "\n",
    "\n",
    "## 4. 보정이 필요한 상황\n",
    "\n",
    "#### 1) 수많은 요인들에 대한 연관성 분석을 수행할 때\n",
    "- **다수의 변수 간 관계 탐색**: 많은 변수 간의 상관관계나 연관성을 탐색하는 연구에서는 무작위 상관관계가 실제로 의미 있는 것처럼 보일 가능성이 있습니다. 예를 들어, 대규모 유전자 연구에서 수천 개의 유전자와 질병 간의 연관성을 조사할 때, 무작위로 발생하는 상관관계가 유의미한 것으로 잘못 판단될 수 있습니다. 이러한 경우, 다중비교 보정을 적용하여 거짓 발견률을 낮추고 실제로 유의미한 결과를 확보하는 것이 중요합니다.\n",
    "- **다양한 가설 검정**: 데이터 분석에서 여러 가설을 동시에 검정할 때, 각 검정에서 제1종 오류가 발생할 확률이 누적되어 전체적으로 유의수준이 높아지게 됩니다. 다중비교 보정 방법을 통해 각 개별 검정의 유의수준을 조정하여, 전체 실험에서의 오류율을 적절히 제어할 수 있습니다.\n",
    "\n",
    "#### 2) 임상 시험\n",
    "- **비교 그룹 수가 3개 이상인 경우**: 여러 치료군이나 대조군이 포함된 임상 시험에서는 각 그룹 간의 비교가 여러 번 이루어집니다. 이때 다중비교 문제를 피하기 위해 보정을 적용해야 합니다. 예를 들어, 세 가지 이상의 치료군을 비교할 때, 모든 치료군 쌍 간의 평균 차이를 검정할 수 있으며, 이 과정에서 오류의 가능성이 커집니다. 이를 방지하기 위해 Tukey's HSD 검정과 같은 다중 비교 보정 방법이 사용됩니다.\n",
    "- **하위군 분석**: 전체 집단을 대상으로 한 주요 분석 외에 특정 하위군(예: 성별, 연령대, 병력 등)에 대해 추가 분석을 수행할 때도 다중비교 보정이 필요합니다. 하위군 분석을 진행하면 전체 분석보다 더 많은 검정이 이루어지기 때문에, 거짓 발견의 위험이 증가합니다. 따라서 각 하위군에 대한 분석에서도 적절한 보정을 통해 결과의 신뢰성을 높여야 합니다.\n",
    "- **중간 분석**: 임상 시험 진행 도중 중간 분석을 수행할 때도 다중비교 문제를 고려해야 합니다. 중간 분석을 여러 번 수행하면 제1종 오류의 위험이 증가하기 때문에, 중간 분석 단계에서도 적절한 보정을 통해 오류율을 관리해야 합니다. 예를 들어, 데이터가 누적됨에 따라 검정 횟수가 늘어나므로, 이를 감안하여 수정된 유의수준을 적용할 필요가 있습니다.\n",
    "\n",
    "\n",
    "## 참고자료\n",
    "\n",
    "https://3months.tistory.com/505\n",
    "\n",
    "https://syj9700.tistory.com/6\n",
    "\n",
    "\n",
    "\n",
    "## 코드 실습\n",
    "\n",
    "- Chat-GPT 활용\n"
   ]
  },
  {
   "cell_type": "markdown",
   "metadata": {},
   "source": [
    "1. FWER"
   ]
  },
  {
   "cell_type": "code",
   "execution_count": 1,
   "metadata": {},
   "outputs": [
    {
     "name": "stdout",
     "output_type": "stream",
     "text": [
      "Bonferroni 보정 결과: [False False False False False]\n"
     ]
    }
   ],
   "source": [
    "import numpy as np\n",
    "import scipy.stats as stats\n",
    "\n",
    "# 예시 p값\n",
    "p_values = np.array([0.01, 0.04, 0.03, 0.08, 0.02])\n",
    "alpha = 0.05  # 전체 유의수준\n",
    "\n",
    "# Bonferroni 보정\n",
    "m = len(p_values)  # 검정의 수\n",
    "bonferroni_alpha = alpha / m\n",
    "\n",
    "# 각 p값과 조정된 유의수준 비교\n",
    "bonferroni_corrected = p_values < bonferroni_alpha\n",
    "print(\"Bonferroni 보정 결과:\", bonferroni_corrected)"
   ]
  },
  {
   "cell_type": "code",
   "execution_count": 2,
   "metadata": {},
   "outputs": [
    {
     "name": "stdout",
     "output_type": "stream",
     "text": [
      "Holm's Step-Down 보정 결과: [False False False False False]\n"
     ]
    }
   ],
   "source": [
    "import numpy as np\n",
    "import scipy.stats as stats\n",
    "\n",
    "def holm(p_palues, alpha):\n",
    "    sorted_p = np.sort(p_values)\n",
    "    m = len(p_values)\n",
    "    adjusted_p = np.zeros_like(p_values)    #np.zeros_like : 입력 배열과 같은 형상과 데이터 타입을 가진 새로운 배열을 생성하고, 그 배열의 모든 값을 0으로 초기화합니다.\n",
    "    \n",
    "    for i in range(m):\n",
    "        adjusted_p[np.argsort(p_values)[i]] = sorted_p[i] * (m - i)\n",
    "    #np.argsort : 배열의 원소를 정렬한 후, 정렬된 배열의 원소들이 원래 배열에서 어떤 위치에 있었는지를 나타내는 인덱스 배열을 반환합니다.\n",
    "    #즉, 배열을 정렬했을 때 각 원소가 원래 배열에서 어떤 인덱스에 있었는지를 알려주는 함수입니다.\n",
    "    # np.argsort(p_values)[i]는 원래 p값 배열에서 i번째로 작은 p값의 인덱스를 제공합니다. 즉, p값이 정렬된 순서에 따라 i번째 p값이 원래 배열의 어떤 위치에 있었는지를 알려줍니다.\n",
    "    # sorted_p[i]는 정렬된 p값 중 i번째 값을 의미합니다.\n",
    "    # sorted_p[i] * (m - i)는 Holm 보정에서 현재 p값의 보정된 값입니다. Holm 보정에서는 각 p값에 대해 m - i를 곱하여 유의수준을 조정합니다. i는 정렬된 p값의 위치를 나타내며, m - i는 보정된 유의수준을 의미합니다.\n",
    "    \n",
    "    return adjusted_p < alpha\n",
    "\n",
    "# 예시 p값\n",
    "p_values = np.array([0.01, 0.04, 0.03, 0.08, 0.02])\n",
    "alpha = 0.05  # 전체 유의수준\n",
    "\n",
    "# Holm's Step-Down 보정\n",
    "holm_corrected = holm(p_values, alpha)\n",
    "print(\"Holm's Step-Down 보정 결과:\", holm_corrected)"
   ]
  },
  {
   "cell_type": "code",
   "execution_count": 4,
   "metadata": {},
   "outputs": [
    {
     "name": "stdout",
     "output_type": "stream",
     "text": [
      "Benjamini-Hochberg 보정 결과: [ True False  True  True  True]\n"
     ]
    }
   ],
   "source": [
    "import numpy as np\n",
    "\n",
    "def benjamini_hochberg(p_values, alpha):\n",
    "    p_values_sorted = np.sort(p_values)\n",
    "    m = len(p_values)\n",
    "    threshold = np.arange(1, m + 1) / m * alpha\n",
    "    is_significant = p_values_sorted <= threshold\n",
    "    \n",
    "    # 원래 순서로 재배치\n",
    "    significant_mask = np.zeros(m, dtype=bool)\n",
    "    for i in range(m):\n",
    "        if is_significant[i]:\n",
    "            significant_mask[np.where(p_values_sorted == p_values[i])[0]] = True\n",
    "    \n",
    "    return significant_mask\n",
    "\n",
    "# 예시 p값\n",
    "p_values = np.array([0.01, 0.04, 0.03, 0.08, 0.02])\n",
    "alpha = 0.05  # 전체 유의수준\n",
    "\n",
    "# Benjamini-Hochberg 보정\n",
    "fdr_corrected = benjamini_hochberg(p_values, alpha)\n",
    "print(\"Benjamini-Hochberg 보정 결과:\", fdr_corrected)"
   ]
  }
 ],
 "metadata": {
  "kernelspec": {
   "display_name": "Python 3",
   "language": "python",
   "name": "python3"
  },
  "language_info": {
   "codemirror_mode": {
    "name": "ipython",
    "version": 3
   },
   "file_extension": ".py",
   "mimetype": "text/x-python",
   "name": "python",
   "nbconvert_exporter": "python",
   "pygments_lexer": "ipython3",
   "version": "3.11.9"
  }
 },
 "nbformat": 4,
 "nbformat_minor": 2
}
